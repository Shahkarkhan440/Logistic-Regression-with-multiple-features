{
 "cells": [
  {
   "cell_type": "code",
   "execution_count": 161,
   "metadata": {},
   "outputs": [
    {
     "name": "stdout",
     "output_type": "stream",
     "text": [
      "Warning: Desired error not necessarily achieved due to precision loss.\n",
      "         Current function value: 0.693147\n",
      "         Iterations: 0\n",
      "         Function evaluations: 106\n",
      "         Gradient evaluations: 94\n"
     ]
    },
    {
     "data": {
      "image/png": "[encoded data removed]",
      "text/plain": [
       "<matplotlib.figure.Figure at 0xafe5383dd8>"
      ]
     },
     "metadata": {},
     "output_type": "display_data"
    },
    {
     "name": "stdout",
     "output_type": "stream",
     "text": [
      "Probability Obtain: 0.998205\n",
      "Obtain training accuracy: 90.0\n"
     ]
    }
   ],
   "source": [
    "import numpy as np \n",
    "import matplotlib.pyplot as plt\n",
    " \n",
    "\n",
    "def sigmoid_function(X):\n",
    "   return 1/(1+np.exp(-X))\n",
    "\n",
    "def cost_function(theta,X,y):\n",
    "    theta = np.matrix(theta)\n",
    "    X = np.matrix(X)\n",
    "    y = np.matrix(y)\n",
    "    first_half = np.multiply(-y, np.log(sigmoid_function(X * theta.T)))\n",
    "    second_half = np.multiply((1 - y), np.log(1 - sigmoid_function(X * theta.T)))\n",
    "    return np.sum(first_half - second_half) / (len(X))\n",
    "\n",
    "def gradient_descent(theta,X,y):\n",
    "   theta.shape = (1, 3)\n",
    "   gradi = zeros(3)\n",
    "   hypo = sigmoid_function(X.dot(theta.conj().transpose()))\n",
    "   delta = hypo - y\n",
    "   length = gradi.size\n",
    "   for i in range(length):\n",
    "      sumdelta = delta.conj().transpose().dot(X[:, i])\n",
    "      gradi[i] = (1.0 / m) * sumdelta * (-1)\n",
    "   theta.shape = (3,)\n",
    "   return gradi\n",
    "\n",
    "data = loadtxt('data.txt', delimiter=',')\n",
    "X = data[:, 0:2]\n",
    "y =  data[:, 2]\n",
    "positive = where(y == 1)\n",
    "negative = where(y == 0)\n",
    "scatter(X[positive, 0], X[positive, 1], marker='o', c='b')\n",
    "scatter(X[negative, 0], X[negative, 1], marker='*', c='r')\n",
    "xlabel('Age in Years')\n",
    "ylabel('Per week Salary in $')\n",
    "legend(['X', 'Y'])\n",
    "\n",
    "m, n = X.shape\n",
    "y.shape = (m, 1)\n",
    "i = ones(shape=(m, 3))\n",
    "i[:, 1:3] = X\n",
    "\n",
    "def set_thetas(i, y):\n",
    "    def f(theta):\n",
    "        return cost_function(theta, i, y)\n",
    "\n",
    "    def f_dash(theta):\n",
    "        return gradient_descent(theta, i, y)\n",
    "    theta = zeros(3)\n",
    "    return fmin_bfgs(f, theta, f_dash, disp=True, maxiter=400)\n",
    "\n",
    "set_thetas(i, y)\n",
    "theta_value = [-24.161272, 0.206233, 0.201470]\n",
    "\n",
    "plot_x = array([min(i[:, 1]) - 2, max(i[:, 2]) + 2])\n",
    "plot_y = (-1/theta_value[2]) * (theta[1] * plot_x + theta[0])\n",
    "\n",
    "plot(plot_x, plot_y)\n",
    "legend(['Decision', 'malignant', 'benign'])\n",
    "show()\n",
    "\n",
    "probablitiy = sigmoid_function(array([1.0, 55.0, 95.0]).dot(array(theta).conj().transpose()))\n",
    "print ('Probability Obtain: %f' % probablitiy)\n",
    "\n",
    "def prediction(theta,X):\n",
    "   m, n = X.shape\n",
    "   A = zeros(shape=(m, 1))\n",
    "   hypo = sigmoid_function(X.dot(theta.conj().transpose()))\n",
    "\n",
    "   for i in range(0, hypo.shape[0]):\n",
    "        if hypo[i] < 0.5:\n",
    "            A[i, 0] = 0\n",
    "        else:\n",
    "            A[i, 0] = 1\n",
    "   return A\n",
    "\n",
    "A = prediction(array(theta), i)\n",
    "print (\"Obtain training accuracy:\",((y[where(A == y)].size / float(y.size)) * 100.0))\n"
   ]
  },
  {
   "cell_type": "code",
   "execution_count": null,
   "metadata": {
    "collapsed": true
   },
   "outputs": [],
   "source": []
  },
  {
   "cell_type": "code",
   "execution_count": null,
   "metadata": {
    "collapsed": true
   },
   "outputs": [],
   "source": [
    "\n"
   ]
  },
  {
   "cell_type": "code",
   "execution_count": null,
   "metadata": {
    "collapsed": true
   },
   "outputs": [],
   "source": []
  }
 ],
 "metadata": {
  "kernelspec": {
   "display_name": "Python 3",
   "language": "python",
   "name": "python3"
  },
  "language_info": {
   "codemirror_mode": {
    "name": "ipython",
    "version": 3
   },
   "file_extension": ".py",
   "mimetype": "text/x-python",
   "name": "python",
   "nbconvert_exporter": "python",
   "pygments_lexer": "ipython3",
   "version": "3.6.3"
  }
 },
 "nbformat": 4,
 "nbformat_minor": 2
}
